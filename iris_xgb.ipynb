{
 "cells": [
  {
   "cell_type": "code",
   "execution_count": 78,
   "id": "b2579e7e-4058-4940-b258-e149b9c5b80a",
   "metadata": {},
   "outputs": [
    {
     "name": "stdout",
     "output_type": "stream",
     "text": [
      "Requirement already satisfied: xgboost in /opt/conda/lib/python3.7/site-packages (1.4.2)\n",
      "Requirement already satisfied: numpy in /opt/conda/lib/python3.7/site-packages (from xgboost) (1.19.5)\n",
      "Requirement already satisfied: scipy in /opt/conda/lib/python3.7/site-packages (from xgboost) (1.7.1)\n",
      "Requirement already satisfied: model_selection in /opt/conda/lib/python3.7/site-packages (0.0.1)\n"
     ]
    }
   ],
   "source": [
    "!pip install xgboost\n",
    "!pip install model_selection"
   ]
  },
  {
   "cell_type": "code",
   "execution_count": 79,
   "id": "d1e097b6-68ca-4f0d-8604-7b536a74cc42",
   "metadata": {},
   "outputs": [],
   "source": [
    "import matplotlib.pyplot as plt\n",
    "from mpl_toolkits.mplot3d import Axes3D\n",
    "from sklearn import datasets\n",
    "from sklearn.decomposition import PCA\n",
    "from sklearn.model_selection import train_test_split\n",
    "import xgboost as xgb\n",
    "from sklearn.datasets import dump_svmlight_file\n",
    "import numpy as np\n",
    "from sklearn.metrics import precision_score\n",
    "from google.cloud import storage, bigquery"
   ]
  },
  {
   "cell_type": "code",
   "execution_count": 80,
   "id": "16691af5-6007-4381-bd43-b2e5d9102d54",
   "metadata": {},
   "outputs": [],
   "source": [
    "# import some data to play with\n",
    "iris = datasets.load_iris()\n",
    "X = iris.data #[:, :2]  # we only take the first two features.\n",
    "y = iris.target"
   ]
  },
  {
   "cell_type": "code",
   "execution_count": 83,
   "id": "b6345110-4157-4a24-a650-2e479e2cb8b1",
   "metadata": {},
   "outputs": [
    {
     "data": {
      "text/plain": [
       "array([0, 0, 0, 0, 0, 0, 0, 0, 0, 0, 0, 0, 0, 0, 0, 0, 0, 0, 0, 0, 0, 0,\n",
       "       0, 0, 0, 0, 0, 0, 0, 0, 0, 0, 0, 0, 0, 0, 0, 0, 0, 0, 0, 0, 0, 0,\n",
       "       0, 0, 0, 0, 0, 0, 1, 1, 1, 1, 1, 1, 1, 1, 1, 1, 1, 1, 1, 1, 1, 1,\n",
       "       1, 1, 1, 1, 1, 1, 1, 1, 1, 1, 1, 1, 1, 1, 1, 1, 1, 1, 1, 1, 1, 1,\n",
       "       1, 1, 1, 1, 1, 1, 1, 1, 1, 1, 1, 1, 2, 2, 2, 2, 2, 2, 2, 2, 2, 2,\n",
       "       2, 2, 2, 2, 2, 2, 2, 2, 2, 2, 2, 2, 2, 2, 2, 2, 2, 2, 2, 2, 2, 2,\n",
       "       2, 2, 2, 2, 2, 2, 2, 2, 2, 2, 2, 2, 2, 2, 2, 2, 2, 2])"
      ]
     },
     "execution_count": 83,
     "metadata": {},
     "output_type": "execute_result"
    }
   ],
   "source": [
    "y"
   ]
  },
  {
   "cell_type": "code",
   "execution_count": 84,
   "id": "d9403e12-0ad5-4b23-b04b-5b1b0a04afaf",
   "metadata": {},
   "outputs": [],
   "source": [
    "X_train, X_test, y_train, y_test = train_test_split(X, y, test_size=0.2, random_state=42)"
   ]
  },
  {
   "cell_type": "code",
   "execution_count": 85,
   "id": "702b79c1-39af-4a49-85d2-a5d56a078ac8",
   "metadata": {},
   "outputs": [
    {
     "name": "stdout",
     "output_type": "stream",
     "text": [
      "Train data length: 120\n",
      "Test data length: 30\n"
     ]
    }
   ],
   "source": [
    "print(\"Train data length:\",len(X_train));\n",
    "print(\"Test data length:\",len(X_test));"
   ]
  },
  {
   "cell_type": "code",
   "execution_count": 86,
   "id": "ee52a1c1-c9b1-4559-9542-af57dc3d01de",
   "metadata": {},
   "outputs": [],
   "source": [
    "dtrain = xgb.DMatrix(X_train, label=y_train)\n",
    "dtest = xgb.DMatrix(X_test, label=y_test)"
   ]
  },
  {
   "cell_type": "code",
   "execution_count": 98,
   "id": "8e908580-6078-4e16-94b3-c64ba7ac721c",
   "metadata": {},
   "outputs": [],
   "source": [
    "parameters = {\n",
    "    'eta': 0.3,  \n",
    "#    'silent': True,  # option for logging\n",
    "    'objective': 'multi:softprob',  # error evaluation for multiclass tasks\n",
    "    'num_class': 3,  # number of classes to predic\n",
    "    'max_depth': 3  # depth of the trees in the boosting process\n",
    "    }  \n",
    "num_round = 20  # the number of training iterations"
   ]
  },
  {
   "cell_type": "code",
   "execution_count": 99,
   "id": "3ba82dd9-ba3f-4011-be44-b8f40bf8dd33",
   "metadata": {},
   "outputs": [
    {
     "name": "stdout",
     "output_type": "stream",
     "text": [
      "[16:58:53] WARNING: ../src/learner.cc:1095: Starting in XGBoost 1.3.0, the default evaluation metric used with the objective 'multi:softprob' was changed from 'merror' to 'mlogloss'. Explicitly set eval_metric if you'd like to restore the old behavior.\n"
     ]
    }
   ],
   "source": [
    "bst = xgb.train(parameters, dtrain, num_round)"
   ]
  },
  {
   "cell_type": "code",
   "execution_count": 89,
   "id": "0cba18db-ba57-4fec-97ee-fb24107a4025",
   "metadata": {},
   "outputs": [],
   "source": [
    "preds = bst.predict(dtest)"
   ]
  },
  {
   "cell_type": "code",
   "execution_count": 90,
   "id": "65062fa8-0b56-4126-868f-098e17376383",
   "metadata": {},
   "outputs": [
    {
     "data": {
      "text/plain": [
       "array([[0.00563805, 0.97755206, 0.01680987],\n",
       "       [0.98254657, 0.01395848, 0.00349498],\n",
       "       [0.0036375 , 0.00615226, 0.9902103 ],\n",
       "       [0.00564738, 0.97917044, 0.0151822 ],\n",
       "       [0.00540076, 0.93640935, 0.0581899 ]], dtype=float32)"
      ]
     },
     "execution_count": 90,
     "metadata": {},
     "output_type": "execute_result"
    }
   ],
   "source": [
    "preds[:5]"
   ]
  },
  {
   "cell_type": "code",
   "execution_count": 91,
   "id": "89ee1c87-dca6-4dcc-8424-8defada20219",
   "metadata": {},
   "outputs": [],
   "source": [
    "preds = bst.predict(dtest)"
   ]
  },
  {
   "cell_type": "code",
   "execution_count": 92,
   "id": "4283142a-f0c7-4b1a-bf05-59860a4c99bc",
   "metadata": {},
   "outputs": [],
   "source": [
    "best_preds = np.asarray([np.argmax(line) for line in preds])"
   ]
  },
  {
   "cell_type": "code",
   "execution_count": 93,
   "id": "5efe2dde-4b91-49b3-bca7-7f18853c0668",
   "metadata": {},
   "outputs": [
    {
     "data": {
      "text/plain": [
       "array([1, 0, 2, 1, 1, 0, 1, 2, 1, 1, 2, 0, 0, 0, 0, 1, 2, 1, 1, 2, 0, 2,\n",
       "       0, 2, 2, 2, 2, 2, 0, 0])"
      ]
     },
     "execution_count": 93,
     "metadata": {},
     "output_type": "execute_result"
    }
   ],
   "source": [
    "best_preds"
   ]
  },
  {
   "cell_type": "code",
   "execution_count": 94,
   "id": "b82c1bc1-1517-4c18-ad69-053651464d65",
   "metadata": {},
   "outputs": [
    {
     "name": "stdout",
     "output_type": "stream",
     "text": [
      "1.0\n"
     ]
    }
   ],
   "source": [
    "print(precision_score(y_test, best_preds, average='macro'))"
   ]
  },
  {
   "cell_type": "code",
   "execution_count": 95,
   "id": "36601e6e-d5e4-41e0-a192-ebe98497081c",
   "metadata": {},
   "outputs": [],
   "source": [
    "model = 'model.bst'\n",
    "bst.save_model(model)\n",
    "bucket = storage.Client().bucket('netology_dataset_sample')\n",
    "blob = bucket.blob('{}/{}'.format('models/iris04', model))\n",
    "blob.upload_from_filename(model)"
   ]
  }
 ],
 "metadata": {
  "environment": {
   "name": "common-cpu.m80",
   "type": "gcloud",
   "uri": "gcr.io/deeplearning-platform-release/base-cpu:m80"
  },
  "kernelspec": {
   "display_name": "Python 3",
   "language": "python",
   "name": "python3"
  },
  "language_info": {
   "codemirror_mode": {
    "name": "ipython",
    "version": 3
   },
   "file_extension": ".py",
   "mimetype": "text/x-python",
   "name": "python",
   "nbconvert_exporter": "python",
   "pygments_lexer": "ipython3",
   "version": "3.7.10"
  }
 },
 "nbformat": 4,
 "nbformat_minor": 5
}
